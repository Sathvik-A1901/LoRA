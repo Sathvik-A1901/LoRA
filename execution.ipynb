{
 "cells": [
  {
   "cell_type": "code",
   "execution_count": 3,
   "metadata": {},
   "outputs": [
    {
     "name": "stderr",
     "output_type": "stream",
     "text": [
      "100.0%\n",
      "100.0%\n",
      "100.0%\n",
      "100.0%\n"
     ]
    }
   ],
   "source": [
    "import torch\n",
    "import torch.nn as nn\n",
    "import torch.optim as optim\n",
    "from torch.utils.data import DataLoader\n",
    "from torchvision import datasets, transforms\n",
    "import numpy as np\n",
    "import matplotlib.pyplot as plt\n",
    "\n",
    "# Set device\n",
    "device = torch.device('cuda' if torch.cuda.is_available() else 'cpu')\n",
    "\n",
    "# MNIST dataset\n",
    "transform = transforms.Compose([\n",
    "    transforms.ToTensor(),\n",
    "    transforms.Normalize((0.1307,), (0.3081,))\n",
    "])\n",
    "train_dataset = datasets.MNIST(root='./data', train=True, download=True, transform=transform)\n",
    "test_dataset = datasets.MNIST(root='./data', train=False, download=True, transform=transform)\n",
    "\n",
    "train_loader = DataLoader(train_dataset, batch_size=64, shuffle=True)\n",
    "test_loader = DataLoader(test_dataset, batch_size=1000, shuffle=False)"
   ]
  },
  {
   "cell_type": "code",
   "execution_count": 4,
   "metadata": {},
   "outputs": [
    {
     "name": "stdout",
     "output_type": "stream",
     "text": [
      "SimpleANN(\n",
      "  (flatten): Flatten(start_dim=1, end_dim=-1)\n",
      "  (fc1): Linear(in_features=784, out_features=256, bias=True)\n",
      "  (fc2): Linear(in_features=256, out_features=128, bias=True)\n",
      "  (fc3): Linear(in_features=128, out_features=10, bias=True)\n",
      "  (relu): ReLU()\n",
      ")\n"
     ]
    }
   ],
   "source": [
    "class SimpleANN(nn.Module):\n",
    "    def __init__(self):\n",
    "        super(SimpleANN, self).__init__()\n",
    "        self.flatten = nn.Flatten()\n",
    "        self.fc1 = nn.Linear(28*28, 256)\n",
    "        self.fc2 = nn.Linear(256, 128)\n",
    "        self.fc3 = nn.Linear(128, 10)\n",
    "        self.relu = nn.ReLU()\n",
    "\n",
    "    def forward(self, x):\n",
    "        x = self.flatten(x)\n",
    "        x = self.relu(self.fc1(x))\n",
    "        x = self.relu(self.fc2(x))\n",
    "        x = self.fc3(x)\n",
    "        return x\n",
    "\n",
    "# Instantiate the model and move to device\n",
    "model = SimpleANN().to(device)\n",
    "print(model)"
   ]
  },
  {
   "cell_type": "code",
   "execution_count": 5,
   "metadata": {},
   "outputs": [],
   "source": [
    "class LoRALinear(nn.Module):\n",
    "    def __init__(self, in_features, out_features, r=4, alpha=1.0, bias=True):\n",
    "        super().__init__()\n",
    "        self.r = r\n",
    "        self.alpha = alpha\n",
    "        self.linear = nn.Linear(in_features, out_features, bias=bias)\n",
    "        # LoRA parameters\n",
    "        if r > 0:\n",
    "            self.A = nn.Parameter(torch.zeros(r, in_features))\n",
    "            self.B = nn.Parameter(torch.zeros(out_features, r))\n",
    "            # Initialization as in the LoRA paper\n",
    "            nn.init.kaiming_uniform_(self.A, a=np.sqrt(5))\n",
    "            nn.init.zeros_(self.B)\n",
    "            self.scaling = self.alpha / self.r\n",
    "        else:\n",
    "            self.A = None\n",
    "            self.B = None\n",
    "            self.scaling = 0\n",
    "\n",
    "        # Freeze the original linear weights\n",
    "        for param in self.linear.parameters():\n",
    "            param.requires_grad = False\n",
    "\n",
    "    def forward(self, x):\n",
    "        result = self.linear(x)\n",
    "        if self.r > 0:\n",
    "            lora_update = (x @ self.A.t()) @ self.B.t() * self.scaling\n",
    "            result = result + lora_update\n",
    "        return result"
   ]
  },
  {
   "cell_type": "code",
   "execution_count": 6,
   "metadata": {},
   "outputs": [
    {
     "name": "stdout",
     "output_type": "stream",
     "text": [
      "LoRA_ANN(\n",
      "  (flatten): Flatten(start_dim=1, end_dim=-1)\n",
      "  (fc1): LoRALinear(\n",
      "    (linear): Linear(in_features=784, out_features=256, bias=True)\n",
      "  )\n",
      "  (fc2): LoRALinear(\n",
      "    (linear): Linear(in_features=256, out_features=128, bias=True)\n",
      "  )\n",
      "  (fc3): LoRALinear(\n",
      "    (linear): Linear(in_features=128, out_features=10, bias=True)\n",
      "  )\n",
      "  (relu): ReLU()\n",
      ")\n"
     ]
    }
   ],
   "source": [
    "class LoRA_ANN(nn.Module):\n",
    "    def __init__(self, r=4, alpha=1.0):\n",
    "        super(LoRA_ANN, self).__init__()\n",
    "        self.flatten = nn.Flatten()\n",
    "        self.fc1 = LoRALinear(28*28, 256, r=r, alpha=alpha)\n",
    "        self.fc2 = LoRALinear(256, 128, r=r, alpha=alpha)\n",
    "        self.fc3 = LoRALinear(128, 10, r=r, alpha=alpha)\n",
    "        self.relu = nn.ReLU()\n",
    "\n",
    "    def forward(self, x):\n",
    "        x = self.flatten(x)\n",
    "        x = self.relu(self.fc1(x))\n",
    "        x = self.relu(self.fc2(x))\n",
    "        x = self.fc3(x)\n",
    "        return x\n",
    "\n",
    "# Instantiate the LoRA model and move to device\n",
    "lora_model = LoRA_ANN(r=4, alpha=1.0).to(device)\n",
    "print(lora_model)"
   ]
  },
  {
   "cell_type": "code",
   "execution_count": 7,
   "metadata": {},
   "outputs": [],
   "source": [
    "def train_one_epoch(model, dataloader, optimizer, criterion, device):\n",
    "    model.train()\n",
    "    running_loss = 0.0\n",
    "    for images, labels in dataloader:\n",
    "        images, labels = images.to(device), labels.to(device)\n",
    "        optimizer.zero_grad()\n",
    "        outputs = model(images)\n",
    "        loss = criterion(outputs, labels)\n",
    "        loss.backward()\n",
    "        optimizer.step()\n",
    "        running_loss += loss.item() * images.size(0)\n",
    "    return running_loss / len(dataloader.dataset)\n",
    "\n",
    "def evaluate(model, dataloader, device):\n",
    "    model.eval()\n",
    "    correct = 0\n",
    "    total = 0\n",
    "    with torch.no_grad():\n",
    "        for images, labels in dataloader:\n",
    "            images, labels = images.to(device), labels.to(device)\n",
    "            outputs = model(images)\n",
    "            _, predicted = torch.max(outputs, 1)\n",
    "            total += labels.size(0)\n",
    "            correct += (predicted == labels).sum().item()\n",
    "    return correct / total"
   ]
  },
  {
   "cell_type": "code",
   "execution_count": 8,
   "metadata": {},
   "outputs": [
    {
     "name": "stdout",
     "output_type": "stream",
     "text": [
      "Number of trainable parameters: 6248\n",
      "Epoch 1/5 | Train Loss: 0.9875 | Test Accuracy: 0.8292\n",
      "Epoch 2/5 | Train Loss: 0.5089 | Test Accuracy: 0.8610\n",
      "Epoch 3/5 | Train Loss: 0.4344 | Test Accuracy: 0.8758\n",
      "Epoch 4/5 | Train Loss: 0.3751 | Test Accuracy: 0.8932\n",
      "Epoch 5/5 | Train Loss: 0.3357 | Test Accuracy: 0.9015\n"
     ]
    }
   ],
   "source": [
    "# Only LoRA parameters are trainable\n",
    "lora_params = [p for p in lora_model.parameters() if p.requires_grad]\n",
    "print(f\"Number of trainable parameters: {sum(p.numel() for p in lora_params)}\")\n",
    "\n",
    "optimizer = optim.Adam(lora_params, lr=1e-3)\n",
    "criterion = nn.CrossEntropyLoss()\n",
    "\n",
    "num_epochs = 5\n",
    "for epoch in range(num_epochs):\n",
    "    train_loss = train_one_epoch(lora_model, train_loader, optimizer, criterion, device)\n",
    "    test_acc = evaluate(lora_model, test_loader, device)\n",
    "    print(f\"Epoch {epoch+1}/{num_epochs} | Train Loss: {train_loss:.4f} | Test Accuracy: {test_acc:.4f}\")"
   ]
  },
  {
   "cell_type": "code",
   "execution_count": 9,
   "metadata": {},
   "outputs": [
    {
     "data": {
      "image/png": "[encoded data removed]",
      "text/plain": [
       "<Figure size 1200x300 with 8 Axes>"
      ]
     },
     "metadata": {},
     "output_type": "display_data"
    }
   ],
   "source": [
    "# Visualize a few test images and predictions\n",
    "def plot_predictions(model, dataloader, device, num_images=8):\n",
    "    model.eval()\n",
    "    images, labels = next(iter(dataloader))\n",
    "    images, labels = images.to(device), labels.to(device)\n",
    "    outputs = model(images)\n",
    "    _, preds = torch.max(outputs, 1)\n",
    "    images = images.cpu().numpy()\n",
    "    plt.figure(figsize=(12, 3))\n",
    "    for i in range(num_images):\n",
    "        plt.subplot(1, num_images, i+1)\n",
    "        plt.imshow(images[i][0], cmap='gray')\n",
    "        plt.title(f\"Pred: {preds[i].item()}\\nTrue: {labels[i].item()}\")\n",
    "        plt.axis('off')\n",
    "    plt.show()\n",
    "\n",
    "plot_predictions(lora_model, test_loader, device)"
   ]
  },
  {
   "cell_type": "code",
   "execution_count": 10,
   "metadata": {},
   "outputs": [
    {
     "name": "stdout",
     "output_type": "stream",
     "text": [
      "Trainable parameters in LoRA model: 6248\n",
      "Trainable parameters in standard ANN: 235146\n"
     ]
    }
   ],
   "source": [
    "def count_trainable_params(model):\n",
    "    return sum(p.numel() for p in model.parameters() if p.requires_grad)\n",
    "\n",
    "print(\"Trainable parameters in LoRA model:\", count_trainable_params(lora_model))\n",
    "print(\"Trainable parameters in standard ANN:\", count_trainable_params(model))"
   ]
  },
  {
   "cell_type": "code",
   "execution_count": 11,
   "metadata": {},
   "outputs": [],
   "source": [
    "def train_and_evaluate_lora(r, alpha, num_epochs=3):\n",
    "    model = LoRA_ANN(r=r, alpha=alpha).to(device)\n",
    "    lora_params = [p for p in model.parameters() if p.requires_grad]\n",
    "    optimizer = optim.Adam(lora_params, lr=1e-3)\n",
    "    criterion = nn.CrossEntropyLoss()\n",
    "    history = {'train_loss': [], 'test_acc': []}\n",
    "    for epoch in range(num_epochs):\n",
    "        train_loss = train_one_epoch(model, train_loader, optimizer, criterion, device)\n",
    "        test_acc = evaluate(model, test_loader, device)\n",
    "        history['train_loss'].append(train_loss)\n",
    "        history['test_acc'].append(test_acc)\n",
    "    n_params = sum(p.numel() for p in lora_params)\n",
    "    return {\n",
    "        'r': r,\n",
    "        'alpha': alpha,\n",
    "        'params': n_params,\n",
    "        'final_acc': history['test_acc'][-1],\n",
    "        'history': history\n",
    "    }"
   ]
  },
  {
   "cell_type": "code",
   "execution_count": 12,
   "metadata": {},
   "outputs": [
    {
     "name": "stdout",
     "output_type": "stream",
     "text": [
      "Training LoRA model with r=1, alpha=1.0...\n",
      "  Params: 1562, Final Test Acc: 0.6537\n",
      "Training LoRA model with r=1, alpha=2.0...\n",
      "  Params: 1562, Final Test Acc: 0.6920\n",
      "Training LoRA model with r=1, alpha=4.0...\n",
      "  Params: 1562, Final Test Acc: 0.6899\n",
      "Training LoRA model with r=1, alpha=8.0...\n",
      "  Params: 1562, Final Test Acc: 0.7271\n",
      "Training LoRA model with r=2, alpha=1.0...\n",
      "  Params: 3124, Final Test Acc: 0.8382\n",
      "Training LoRA model with r=2, alpha=2.0...\n",
      "  Params: 3124, Final Test Acc: 0.8467\n",
      "Training LoRA model with r=2, alpha=4.0...\n",
      "  Params: 3124, Final Test Acc: 0.8624\n",
      "Training LoRA model with r=2, alpha=8.0...\n",
      "  Params: 3124, Final Test Acc: 0.8507\n",
      "Training LoRA model with r=4, alpha=1.0...\n",
      "  Params: 6248, Final Test Acc: 0.8764\n",
      "Training LoRA model with r=4, alpha=2.0...\n",
      "  Params: 6248, Final Test Acc: 0.8974\n",
      "Training LoRA model with r=4, alpha=4.0...\n",
      "  Params: 6248, Final Test Acc: 0.9030\n",
      "Training LoRA model with r=4, alpha=8.0...\n",
      "  Params: 6248, Final Test Acc: 0.9059\n",
      "Training LoRA model with r=8, alpha=1.0...\n",
      "  Params: 12496, Final Test Acc: 0.9148\n",
      "Training LoRA model with r=8, alpha=2.0...\n",
      "  Params: 12496, Final Test Acc: 0.9242\n",
      "Training LoRA model with r=8, alpha=4.0...\n",
      "  Params: 12496, Final Test Acc: 0.9341\n",
      "Training LoRA model with r=8, alpha=8.0...\n",
      "  Params: 12496, Final Test Acc: 0.9424\n",
      "Training LoRA model with r=16, alpha=1.0...\n",
      "  Params: 24992, Final Test Acc: 0.9178\n",
      "Training LoRA model with r=16, alpha=2.0...\n",
      "  Params: 24992, Final Test Acc: 0.9324\n",
      "Training LoRA model with r=16, alpha=4.0...\n",
      "  Params: 24992, Final Test Acc: 0.9381\n",
      "Training LoRA model with r=16, alpha=8.0...\n",
      "  Params: 24992, Final Test Acc: 0.9488\n"
     ]
    }
   ],
   "source": [
    "results = []\n",
    "r_values = [1, 2, 4, 8, 16]\n",
    "alpha_values = [1.0, 2.0, 4.0, 8.0]\n",
    "\n",
    "for r in r_values:\n",
    "    for alpha in alpha_values:\n",
    "        print(f\"Training LoRA model with r={r}, alpha={alpha}...\")\n",
    "        result = train_and_evaluate_lora(r, alpha, num_epochs=3)\n",
    "        results.append(result)\n",
    "        print(f\"  Params: {result['params']}, Final Test Acc: {result['final_acc']:.4f}\")"
   ]
  },
  {
   "cell_type": "code",
   "execution_count": 13,
   "metadata": {},
   "outputs": [
    {
     "name": "stdout",
     "output_type": "stream",
     "text": [
      "Summary of LoRA experiments:\n",
      " r | alpha | params | final_acc \n",
      "---|-------|--------|-----------\n",
      " 1 |   1.0 |   1562 | 0.6537\n",
      " 1 |   2.0 |   1562 | 0.6920\n",
      " 1 |   4.0 |   1562 | 0.6899\n",
      " 1 |   8.0 |   1562 | 0.7271\n",
      " 2 |   1.0 |   3124 | 0.8382\n",
      " 2 |   2.0 |   3124 | 0.8467\n",
      " 2 |   4.0 |   3124 | 0.8624\n",
      " 2 |   8.0 |   3124 | 0.8507\n",
      " 4 |   1.0 |   6248 | 0.8764\n",
      " 4 |   2.0 |   6248 | 0.8974\n",
      " 4 |   4.0 |   6248 | 0.9030\n",
      " 4 |   8.0 |   6248 | 0.9059\n",
      " 8 |   1.0 |  12496 | 0.9148\n",
      " 8 |   2.0 |  12496 | 0.9242\n",
      " 8 |   4.0 |  12496 | 0.9341\n",
      " 8 |   8.0 |  12496 | 0.9424\n",
      "16 |   1.0 |  24992 | 0.9178\n",
      "16 |   2.0 |  24992 | 0.9324\n",
      "16 |   4.0 |  24992 | 0.9381\n",
      "16 |   8.0 |  24992 | 0.9488\n"
     ]
    }
   ],
   "source": [
    "print(\"Summary of LoRA experiments:\")\n",
    "print(\" r | alpha | params | final_acc \")\n",
    "print(\"---|-------|--------|-----------\")\n",
    "for res in results:\n",
    "    print(f\"{res['r']:2d} | {res['alpha']:5.1f} | {res['params']:6d} | {res['final_acc']:.4f}\")"
   ]
  },
  {
   "cell_type": "code",
   "execution_count": 14,
   "metadata": {},
   "outputs": [
    {
     "data": {
      "image/png": "[encoded data removed]",
      "text/plain": [
       "<Figure size 800x500 with 1 Axes>"
      ]
     },
     "metadata": {},
     "output_type": "display_data"
    }
   ],
   "source": [
    "import pandas as pd\n",
    "\n",
    "df = pd.DataFrame(results)\n",
    "plt.figure(figsize=(8,5))\n",
    "for alpha in alpha_values:\n",
    "    subset = df[df['alpha'] == alpha]\n",
    "    plt.plot(subset['params'], subset['final_acc'], marker='o', label=f'alpha={alpha}')\n",
    "plt.xlabel('Number of trainable parameters')\n",
    "plt.ylabel('Final Test Accuracy')\n",
    "plt.title('LoRA: Accuracy vs. Trainable Parameters')\n",
    "plt.legend()\n",
    "plt.grid(True)\n",
    "plt.show()"
   ]
  },
  {
   "cell_type": "code",
   "execution_count": null,
   "metadata": {},
   "outputs": [],
   "source": []
  }
 ],
 "metadata": {
  "kernelspec": {
   "display_name": "loraenv",
   "language": "python",
   "name": "python3"
  },
  "language_info": {
   "codemirror_mode": {
    "name": "ipython",
    "version": 3
   },
   "file_extension": ".py",
   "mimetype": "text/x-python",
   "name": "python",
   "nbconvert_exporter": "python",
   "pygments_lexer": "ipython3",
   "version": "3.13.3"
  }
 },
 "nbformat": 4,
 "nbformat_minor": 2
}
